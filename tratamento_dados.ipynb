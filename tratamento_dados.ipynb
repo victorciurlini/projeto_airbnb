{
 "cells": [
  {
   "cell_type": "code",
   "execution_count": 1,
   "id": "48cd2713",
   "metadata": {},
   "outputs": [],
   "source": [
    "import pandas as pd\n",
    "from math import cos, sin, asin, sqrt, radians"
   ]
  },
  {
   "cell_type": "code",
   "execution_count": 2,
   "id": "03c615b3",
   "metadata": {},
   "outputs": [],
   "source": [
    "def calc_distance(lat1, lon1, lat2, lon2):\n",
    "    \"\"\"\n",
    "    Calculate the great circle distance between two points\n",
    "    on the earth (specified in decimal degrees)\n",
    "    \"\"\"\n",
    "    # convert decimal degrees to radians\n",
    "    lon1, lat1, lon2, lat2 = map(radians, [lon1, lat1, lon2, lat2])\n",
    "    # haversine formula\n",
    "    dlon = lon2 - lon1\n",
    "    dlat = lat2 - lat1\n",
    "    a = sin(dlat / 2) ** 2 + cos(lat1) * cos(lat2) * sin(dlon / 2) ** 2\n",
    "    c = 2 * asin(sqrt(a))\n",
    "    km = 6371 * c\n",
    "    return km"
   ]
  },
  {
   "cell_type": "code",
   "execution_count": 3,
   "id": "eae84e2a",
   "metadata": {},
   "outputs": [],
   "source": [
    "def calculo_distancia(df, df_onibus):\n",
    "    calculo_distancia = []\n",
    "    for latidude_acomodacao, longitude_acomodacao in zip(df['latitude'], df['latitude']):\n",
    "        for latitude_parada, longitude_parada in zip(df_onibus['latitude'], df_onibus['latitude']):\n",
    "            result_final = 999999999\n",
    "            result = calc_distance(latidude_acomodacao, longitude_acomodacao, latitude_parada, longitude_parada)\n",
    "            if result < result_final:\n",
    "                result_final = result\n",
    "            else:\n",
    "                pass\n",
    "            result = 0\n",
    "        calculo_distancia.append(result_final)\n",
    "    return calculo_distancia"
   ]
  },
  {
   "cell_type": "code",
   "execution_count": 4,
   "id": "d1829953",
   "metadata": {},
   "outputs": [],
   "source": [
    "def trata_colunas(df):\n",
    "    df['price'] = pd.to_numeric(df['price'].str.replace('[^-.0-9]', '', regex=True))\n",
    "    df['bathrooms_text'] = df['bathrooms_text'].str.replace('[^.0-9]', '', regex=True).str.replace('', '0', regex=True).astype('float64')\n",
    "\n",
    "    return df"
   ]
  },
  {
   "cell_type": "code",
   "execution_count": 5,
   "id": "b5ea1b64",
   "metadata": {},
   "outputs": [],
   "source": [
    "def drop_outiliers(df):\n",
    "    df.drop(df[df['price'] >= 9999].index, inplace = True)\n",
    "    df.drop(df[df['accommodates'] == 0].index, inplace = True)\n",
    "    df = df[df['latitude'].notna()]\n",
    "    df = df[df['longitude'].notna()]\n",
    "\n",
    "    return df"
   ]
  },
  {
   "cell_type": "code",
   "execution_count": 6,
   "id": "0433a396",
   "metadata": {},
   "outputs": [],
   "source": [
    "df = pd.read_csv(\"data/listings.csv\")\n",
    "df_onibus =pd.read_csv('data/onibus.csv')"
   ]
  },
  {
   "cell_type": "code",
   "execution_count": 8,
   "id": "a8ca4237",
   "metadata": {},
   "outputs": [],
   "source": [
    "df['distancia_parada_metros'] = calculo_distancia(df, df_onibus)\n",
    "df_colunas_tratadas = trata_colunas(df)\n",
    "df_sem_outliers = drop_outiliers(df_colunas_tratadas)"
   ]
  },
  {
   "cell_type": "code",
   "execution_count": null,
   "id": "4bc020c2",
   "metadata": {},
   "outputs": [],
   "source": [
    "df_sem_outliers.to_csv('data/dados_tratados.csv')"
   ]
  }
 ],
 "metadata": {
  "interpreter": {
   "hash": "97fe28fcfe5b81420c57968400fb4f8d5f6dc2f08862451b263bc5379db51201"
  },
  "kernelspec": {
   "display_name": "Python 3.10.1 ('.pyenv': venv)",
   "language": "python",
   "name": "python3"
  },
  "language_info": {
   "codemirror_mode": {
    "name": "ipython",
    "version": 3
   },
   "file_extension": ".py",
   "mimetype": "text/x-python",
   "name": "python",
   "nbconvert_exporter": "python",
   "pygments_lexer": "ipython3",
   "version": "3.10.1"
  }
 },
 "nbformat": 4,
 "nbformat_minor": 5
}
